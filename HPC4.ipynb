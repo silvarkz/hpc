{
  "nbformat": 4,
  "nbformat_minor": 0,
  "metadata": {
    "colab": {
      "provenance": [],
      "gpuType": "T4"
    },
    "kernelspec": {
      "name": "python3",
      "display_name": "Python 3"
    },
    "language_info": {
      "name": "python"
    },
    "accelerator": "GPU"
  },
  "cells": [
    {
      "cell_type": "code",
      "execution_count": 1,
      "metadata": {
        "colab": {
          "base_uri": "https://localhost:8080/"
        },
        "id": "FGb6UygB8FAN",
        "outputId": "b24fbfce-39bf-4e17-b5d6-6f0f40942d47"
      },
      "outputs": [
        {
          "output_type": "stream",
          "name": "stdout",
          "text": [
            "nvcc: NVIDIA (R) Cuda compiler driver\n",
            "Copyright (c) 2005-2023 NVIDIA Corporation\n",
            "Built on Tue_Aug_15_22:02:13_PDT_2023\n",
            "Cuda compilation tools, release 12.2, V12.2.140\n",
            "Build cuda_12.2.r12.2/compiler.33191640_0\n"
          ]
        }
      ],
      "source": [
        "!nvcc --version"
      ]
    },
    {
      "cell_type": "code",
      "source": [
        "!pip install git+https://github.com/andreinechaev/nvcc4jupyter.git"
      ],
      "metadata": {
        "colab": {
          "base_uri": "https://localhost:8080/"
        },
        "id": "yZEsoGzZ8FkM",
        "outputId": "51c9be0d-73e3-4852-b6b0-74c029f5db3b"
      },
      "execution_count": 2,
      "outputs": [
        {
          "output_type": "stream",
          "name": "stdout",
          "text": [
            "Collecting git+https://github.com/andreinechaev/nvcc4jupyter.git\n",
            "  Cloning https://github.com/andreinechaev/nvcc4jupyter.git to /tmp/pip-req-build-3wup91gt\n",
            "  Running command git clone --filter=blob:none --quiet https://github.com/andreinechaev/nvcc4jupyter.git /tmp/pip-req-build-3wup91gt\n",
            "  Resolved https://github.com/andreinechaev/nvcc4jupyter.git to commit 5741c522547756ac4bb7a16df32106a15efb8a57\n",
            "  Installing build dependencies ... \u001b[?25l\u001b[?25hdone\n",
            "  Getting requirements to build wheel ... \u001b[?25l\u001b[?25hdone\n",
            "  Preparing metadata (pyproject.toml) ... \u001b[?25l\u001b[?25hdone\n",
            "Building wheels for collected packages: nvcc4jupyter\n",
            "  Building wheel for nvcc4jupyter (pyproject.toml) ... \u001b[?25l\u001b[?25hdone\n",
            "  Created wheel for nvcc4jupyter: filename=nvcc4jupyter-1.2.1-py3-none-any.whl size=10741 sha256=1c43b610d84440f376c57bb0b3d20f87e2433fdb6f06eb98d5fd7c81c461a971\n",
            "  Stored in directory: /tmp/pip-ephem-wheel-cache-v0avvhv2/wheels/a8/b9/18/23f8ef71ceb0f63297dd1903aedd067e6243a68ea756d6feea\n",
            "Successfully built nvcc4jupyter\n",
            "Installing collected packages: nvcc4jupyter\n",
            "Successfully installed nvcc4jupyter-1.2.1\n"
          ]
        }
      ]
    },
    {
      "cell_type": "code",
      "source": [
        "%load_ext nvcc4jupyter"
      ],
      "metadata": {
        "colab": {
          "base_uri": "https://localhost:8080/"
        },
        "id": "ukfqmunG8TY5",
        "outputId": "d5f024f2-d2b4-4815-eec7-b181f5f20313"
      },
      "execution_count": 3,
      "outputs": [
        {
          "output_type": "stream",
          "name": "stdout",
          "text": [
            "Detected platform \"Colab\". Running its setup...\n",
            "Source files will be saved in \"/tmp/tmpz7ry5w76\".\n"
          ]
        }
      ]
    },
    {
      "cell_type": "code",
      "source": [
        "%%cuda\n",
        "#include <iostream>\n",
        "#include <cstdlib>\n",
        "#include <cstdio>\n",
        "\n",
        "#define N 1000000 // Size of vectors\n",
        "\n",
        "// CUDA kernel for vector addition\n",
        "__global__ void vectorAdd(int *a, int *b, int *c, int n) {\n",
        "    int i = blockDim.x * blockIdx.x + threadIdx.x;\n",
        "    if (i < n) {\n",
        "        c[i] = a[i] + b[i];\n",
        "    }\n",
        "}\n",
        "\n",
        "int main() {\n",
        "    // Host vectors and initialization\n",
        "    int *h_a = (int *)malloc(N * sizeof(int)); // Allocate memory for host vector a\n",
        "    int *h_b = (int *)malloc(N * sizeof(int)); // Allocate memory for host vector b\n",
        "    int *h_c = (int *)malloc(N * sizeof(int)); // Allocate memory for host vector c\n",
        "    // Initialize host vectors a and b\n",
        "    for (int i = 0; i < N; ++i) {\n",
        "        h_a[i] = i;\n",
        "        h_b[i] = i * 2;\n",
        "    }\n",
        "\n",
        "    // Device vectors\n",
        "    int *d_a, *d_b, *d_c;\n",
        "    cudaMalloc((void **)&d_a, N * sizeof(int)); // Allocate memory for device vector a\n",
        "    cudaMalloc((void **)&d_b, N * sizeof(int)); // Allocate memory for device vector b\n",
        "    cudaMalloc((void **)&d_c, N * sizeof(int)); // Allocate memory for device vector c\n",
        "\n",
        "    // Copy host vectors to device\n",
        "    cudaMemcpy(d_a, h_a, N * sizeof(int), cudaMemcpyHostToDevice); // Copy host vector a to device\n",
        "    cudaMemcpy(d_b, h_b, N * sizeof(int), cudaMemcpyHostToDevice); // Copy host vector b to device\n",
        "\n",
        "    // Define grid and block dimensions\n",
        "    int blockSize = 256;\n",
        "    int numBlocks = (N + blockSize - 1) / blockSize;\n",
        "\n",
        "    // Launch vectorAdd kernel on GPU\n",
        "    vectorAdd<<<numBlocks, blockSize>>>(d_a, d_b, d_c, N); // Run kernel with appropriate grid and block dimensions\n",
        "\n",
        "    // Copy result from device to host\n",
        "    cudaMemcpy(h_c, d_c, N * sizeof(int), cudaMemcpyDeviceToHost); // Copy device vector c to host\n",
        "\n",
        "    // Verify the result\n",
        "    for (int i = 0; i < 10; ++i) { // Print the first 10 elements of vectors a, b, and c\n",
        "        printf(\"%d + %d = %d\\n\", h_a[i], h_b[i], h_c[i]);\n",
        "    }\n",
        "\n",
        "    // Free memory\n",
        "    free(h_a); // Free memory allocated for host vector a\n",
        "    free(h_b); // Free memory allocated for host vector b\n",
        "    free(h_c); // Free memory allocated for host vector c\n",
        "    cudaFree(d_a); // Free memory allocated for device vector a\n",
        "    cudaFree(d_b); // Free memory allocated for device vector b\n",
        "    cudaFree(d_c); // Free memory allocated for device vector c\n",
        "\n",
        "    return 0;\n",
        "}\n"
      ],
      "metadata": {
        "colab": {
          "base_uri": "https://localhost:8080/"
        },
        "id": "Hppnu7Kb8Y8t",
        "outputId": "50cd402a-4221-4478-f2a9-3e34e16a5896"
      },
      "execution_count": 8,
      "outputs": [
        {
          "output_type": "stream",
          "name": "stdout",
          "text": [
            "0 + 0 = 0\n",
            "1 + 2 = 3\n",
            "2 + 4 = 6\n",
            "3 + 6 = 9\n",
            "4 + 8 = 12\n",
            "5 + 10 = 15\n",
            "6 + 12 = 18\n",
            "7 + 14 = 21\n",
            "8 + 16 = 24\n",
            "9 + 18 = 27\n",
            "\n"
          ]
        }
      ]
    },
    {
      "cell_type": "code",
      "source": [
        "%%cuda\n",
        "#include <iostream>\n",
        "#include <cstdlib>\n",
        "#include <cstdio>\n",
        "\n",
        "#define N 32\n",
        "\n",
        "// CUDA kernel for matrix multiplication\n",
        "__global__ void matrixMul(int *a, int *b, int *c, int n) {\n",
        "    int row = blockIdx.y * blockDim.y + threadIdx.y;\n",
        "    int col = blockIdx.x * blockDim.x + threadIdx.x;\n",
        "\n",
        "    if (row < n && col < n) {\n",
        "        int sum = 0;\n",
        "        for (int i = 0; i < n; ++i) {\n",
        "            sum += a[row * n + i] * b[i * n + col];\n",
        "        }\n",
        "        c[row * n + col] = sum;\n",
        "    }\n",
        "}\n",
        "\n",
        "int main() {\n",
        "    // Matrix dimensions\n",
        "    int size = N * N * sizeof(int);\n",
        "\n",
        "    // Host matrices\n",
        "    int *h_a, *h_b, *h_c;\n",
        "\n",
        "    // Device matrices\n",
        "    int *d_a, *d_b, *d_c;\n",
        "\n",
        "    // Allocate memory for host matrices\n",
        "    h_a = (int *)malloc(size);\n",
        "    h_b = (int *)malloc(size);\n",
        "    h_c = (int *)malloc(size);\n",
        "\n",
        "    // Initialize host matrices\n",
        "    for (int i = 0; i < N * N; ++i) {\n",
        "        h_a[i] = i;\n",
        "        h_b[i] = i * 2;\n",
        "    }\n",
        "\n",
        "    // Allocate memory for device matrices\n",
        "    cudaMalloc((void **)&d_a, size);\n",
        "    cudaMalloc((void **)&d_b, size);\n",
        "    cudaMalloc((void **)&d_c, size);\n",
        "\n",
        "    // Copy host matrices to device\n",
        "    cudaMemcpy(d_a, h_a, size, cudaMemcpyHostToDevice);\n",
        "    cudaMemcpy(d_b, h_b, size, cudaMemcpyHostToDevice);\n",
        "\n",
        "    // Define grid and block size\n",
        "    dim3 dimGrid(ceil(N / 16.0), ceil(N / 16.0), 1);\n",
        "    dim3 dimBlock(16, 16, 1);\n",
        "\n",
        "    // Launch matrixMul kernel on GPU\n",
        "    matrixMul<<<dimGrid, dimBlock>>>(d_a, d_b, d_c, N);\n",
        "\n",
        "    // Copy result from device to host\n",
        "    cudaMemcpy(h_c, d_c, size, cudaMemcpyDeviceToHost);\n",
        "\n",
        "    // Print the result for verification\n",
        "    for (int i = 0; i < 4; ++i) {\n",
        "        for (int j = 0; j < 4; ++j) {\n",
        "            printf(\"%d \", h_c[i * N + j]);\n",
        "        }\n",
        "        printf(\"\\n\");\n",
        "    }\n",
        "\n",
        "    // Free device memory\n",
        "    cudaFree(d_a);\n",
        "    cudaFree(d_b);\n",
        "    cudaFree(d_c);\n",
        "\n",
        "    // Free host memory\n",
        "    free(h_a);\n",
        "    free(h_b);\n",
        "    free(h_c);\n",
        "\n",
        "    return 0;\n",
        "}\n"
      ],
      "metadata": {
        "colab": {
          "base_uri": "https://localhost:8080/"
        },
        "id": "vESmFUQl8g0G",
        "outputId": "2b9fea98-7d7d-485b-f581-eb99196531bf"
      },
      "execution_count": 9,
      "outputs": [
        {
          "output_type": "stream",
          "name": "stdout",
          "text": [
            "666624 667616 668608 669600 \n",
            "1682432 1685472 1688512 1691552 \n",
            "2698240 2703328 2708416 2713504 \n",
            "3714048 3721184 3728320 3735456 \n",
            "\n"
          ]
        }
      ]
    },
    {
      "cell_type": "code",
      "source": [],
      "metadata": {
        "id": "SqIb3of59C5c"
      },
      "execution_count": 5,
      "outputs": []
    }
  ]
}